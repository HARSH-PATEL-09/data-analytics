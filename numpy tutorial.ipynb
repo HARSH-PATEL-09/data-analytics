{
 "cells": [
  {
   "cell_type": "markdown",
   "id": "7e99e185-7ff7-4d7d-b5bd-728dca1e79a0",
   "metadata": {},
   "source": [
    "# numpy tutorial in python"
   ]
  },
  {
   "cell_type": "code",
   "execution_count": 1,
   "id": "c9cec7e5-3bdc-473f-af02-9b1bcd70131c",
   "metadata": {},
   "outputs": [],
   "source": [
    "import numpy as np"
   ]
  },
  {
   "cell_type": "code",
   "execution_count": 2,
   "id": "cc07ae09-4372-4e98-8ca7-c43eff2c321b",
   "metadata": {},
   "outputs": [],
   "source": [
    "myarr = np.array([[3,4,5,6,7,8,7,7,2]] , np.int8)"
   ]
  },
  {
   "cell_type": "code",
   "execution_count": 3,
   "id": "65cf53a5-5ef8-4b23-9f1f-dd625185dad6",
   "metadata": {},
   "outputs": [
    {
     "data": {
      "text/plain": [
       "array([[3, 4, 5, 6, 7, 8, 7, 7, 2]], dtype=int8)"
      ]
     },
     "execution_count": 3,
     "metadata": {},
     "output_type": "execute_result"
    }
   ],
   "source": [
    "myarr"
   ]
  },
  {
   "cell_type": "code",
   "execution_count": 6,
   "id": "5e6b2531-64b9-4d9a-afdd-28e52d0cc82e",
   "metadata": {},
   "outputs": [
    {
     "data": {
      "text/plain": [
       "(1, 9)"
      ]
     },
     "execution_count": 6,
     "metadata": {},
     "output_type": "execute_result"
    }
   ],
   "source": [
    "myarr.shape"
   ]
  },
  {
   "cell_type": "code",
   "execution_count": 7,
   "id": "f5a6de52-aecb-4afb-86af-27d7c9922cfd",
   "metadata": {},
   "outputs": [
    {
     "data": {
      "text/plain": [
       "dtype('int8')"
      ]
     },
     "execution_count": 7,
     "metadata": {},
     "output_type": "execute_result"
    }
   ],
   "source": [
    "myarr.dtype"
   ]
  },
  {
   "cell_type": "code",
   "execution_count": 8,
   "id": "ca3c56e2-d8be-44d7-a6d0-02f0a1d4ce8a",
   "metadata": {},
   "outputs": [
    {
     "data": {
      "text/plain": [
       "np.int8(4)"
      ]
     },
     "execution_count": 8,
     "metadata": {},
     "output_type": "execute_result"
    }
   ],
   "source": [
    "myarr[0 , 1]"
   ]
  },
  {
   "cell_type": "code",
   "execution_count": 9,
   "id": "89fad10b-fe4b-443c-a7b5-3a9b97b5a42c",
   "metadata": {},
   "outputs": [],
   "source": [
    "myarr[ 0 , 3] = 77"
   ]
  },
  {
   "cell_type": "code",
   "execution_count": 10,
   "id": "d426fbdc-d6a0-4726-9878-c0e82decf1c9",
   "metadata": {},
   "outputs": [
    {
     "data": {
      "text/plain": [
       "array([[ 3,  4,  5, 77,  7,  8,  7,  7,  2]], dtype=int8)"
      ]
     },
     "execution_count": 10,
     "metadata": {},
     "output_type": "execute_result"
    }
   ],
   "source": [
    "myarr"
   ]
  },
  {
   "cell_type": "markdown",
   "id": "106e25a8-6e90-47de-b757-333558b889d8",
   "metadata": {},
   "source": [
    "# other array creation in numpy python"
   ]
  },
  {
   "cell_type": "code",
   "execution_count": 11,
   "id": "1e2351b3-f508-4fc2-8e65-6919a2067be0",
   "metadata": {},
   "outputs": [],
   "source": [
    "listarr = np.array([[3,4,5] , [5,6,7] , [65,4,34]])"
   ]
  },
  {
   "cell_type": "code",
   "execution_count": 12,
   "id": "aecbfe78-94b1-4c64-9eda-950ac768fa0e",
   "metadata": {},
   "outputs": [
    {
     "data": {
      "text/plain": [
       "array([[ 3,  4,  5],\n",
       "       [ 5,  6,  7],\n",
       "       [65,  4, 34]])"
      ]
     },
     "execution_count": 12,
     "metadata": {},
     "output_type": "execute_result"
    }
   ],
   "source": [
    "listarr"
   ]
  },
  {
   "cell_type": "code",
   "execution_count": 13,
   "id": "1f52d06c-e798-4100-b651-3d20c27dcf45",
   "metadata": {},
   "outputs": [
    {
     "data": {
      "text/plain": [
       "dtype('int64')"
      ]
     },
     "execution_count": 13,
     "metadata": {},
     "output_type": "execute_result"
    }
   ],
   "source": [
    "listarr.dtype"
   ]
  },
  {
   "cell_type": "code",
   "execution_count": 14,
   "id": "5062ccc3-2074-4245-baf6-d8273a66e906",
   "metadata": {},
   "outputs": [
    {
     "data": {
      "text/plain": [
       "(3, 3)"
      ]
     },
     "execution_count": 14,
     "metadata": {},
     "output_type": "execute_result"
    }
   ],
   "source": [
    "listarr.shape"
   ]
  },
  {
   "cell_type": "code",
   "execution_count": 15,
   "id": "a40d785f-7521-423b-b516-063dcf70d2c0",
   "metadata": {},
   "outputs": [
    {
     "data": {
      "text/plain": [
       "9"
      ]
     },
     "execution_count": 15,
     "metadata": {},
     "output_type": "execute_result"
    }
   ],
   "source": [
    "listarr.size"
   ]
  },
  {
   "cell_type": "code",
   "execution_count": 16,
   "id": "e4e0edbc-d072-4733-b140-725c7feea4df",
   "metadata": {},
   "outputs": [
    {
     "data": {
      "text/plain": [
       "array({34, 3, 54}, dtype=object)"
      ]
     },
     "execution_count": 16,
     "metadata": {},
     "output_type": "execute_result"
    }
   ],
   "source": [
    "np.array({34,54,3})"
   ]
  },
  {
   "cell_type": "code",
   "execution_count": 17,
   "id": "80bde0b1-2a62-4d6d-b5ed-68a07c78aa2c",
   "metadata": {},
   "outputs": [],
   "source": [
    "zeros = np.zeros((3 , 3))"
   ]
  },
  {
   "cell_type": "code",
   "execution_count": 18,
   "id": "804cffd4-96f8-48b7-acb3-88fd041a8bed",
   "metadata": {},
   "outputs": [
    {
     "data": {
      "text/plain": [
       "array([[0., 0., 0.],\n",
       "       [0., 0., 0.],\n",
       "       [0., 0., 0.]])"
      ]
     },
     "execution_count": 18,
     "metadata": {},
     "output_type": "execute_result"
    }
   ],
   "source": [
    "zeros"
   ]
  },
  {
   "cell_type": "code",
   "execution_count": 19,
   "id": "1d88d056-e4cb-4714-9971-9dd3232008d1",
   "metadata": {},
   "outputs": [
    {
     "data": {
      "text/plain": [
       "dtype('float64')"
      ]
     },
     "execution_count": 19,
     "metadata": {},
     "output_type": "execute_result"
    }
   ],
   "source": [
    "zeros.dtype"
   ]
  },
  {
   "cell_type": "code",
   "execution_count": 20,
   "id": "9db1feb6-9d4d-4fe6-be13-3e64b86be9a9",
   "metadata": {},
   "outputs": [
    {
     "data": {
      "text/plain": [
       "(3, 3)"
      ]
     },
     "execution_count": 20,
     "metadata": {},
     "output_type": "execute_result"
    }
   ],
   "source": [
    "zeros.shape"
   ]
  },
  {
   "cell_type": "code",
   "execution_count": 21,
   "id": "d3cd64d9-7963-495d-a50c-71f30a54e710",
   "metadata": {},
   "outputs": [],
   "source": [
    "rng = np.arange(21)"
   ]
  },
  {
   "cell_type": "code",
   "execution_count": 22,
   "id": "8c33a791-6dfa-495c-a5cb-c343ec7785ad",
   "metadata": {},
   "outputs": [
    {
     "data": {
      "text/plain": [
       "array([ 0,  1,  2,  3,  4,  5,  6,  7,  8,  9, 10, 11, 12, 13, 14, 15, 16,\n",
       "       17, 18, 19, 20])"
      ]
     },
     "execution_count": 22,
     "metadata": {},
     "output_type": "execute_result"
    }
   ],
   "source": [
    "rng"
   ]
  },
  {
   "cell_type": "code",
   "execution_count": 23,
   "id": "0b64ccb6-6efb-4094-bea6-ff99a7cbc718",
   "metadata": {},
   "outputs": [],
   "source": [
    "linspace = np.linspace(0,9,8)"
   ]
  },
  {
   "cell_type": "code",
   "execution_count": 24,
   "id": "bf3606a0-02f9-4b55-bda6-3cec6e0d67b0",
   "metadata": {},
   "outputs": [
    {
     "data": {
      "text/plain": [
       "array([0.        , 1.28571429, 2.57142857, 3.85714286, 5.14285714,\n",
       "       6.42857143, 7.71428571, 9.        ])"
      ]
     },
     "execution_count": 24,
     "metadata": {},
     "output_type": "execute_result"
    }
   ],
   "source": [
    "linspace"
   ]
  },
  {
   "cell_type": "code",
   "execution_count": 25,
   "id": "95fc8d42-4a6e-470b-890f-964dd9d63668",
   "metadata": {},
   "outputs": [],
   "source": [
    "lspace = np.linspace(3,4,6)"
   ]
  },
  {
   "cell_type": "code",
   "execution_count": 26,
   "id": "3832c6c2-e220-421f-a85c-5dd64162af39",
   "metadata": {},
   "outputs": [
    {
     "data": {
      "text/plain": [
       "array([3. , 3.2, 3.4, 3.6, 3.8, 4. ])"
      ]
     },
     "execution_count": 26,
     "metadata": {},
     "output_type": "execute_result"
    }
   ],
   "source": [
    "lspace"
   ]
  },
  {
   "cell_type": "code",
   "execution_count": 27,
   "id": "e45e21dd-4c00-402f-bc57-8a3fa5698c46",
   "metadata": {},
   "outputs": [],
   "source": [
    "enp = np.empty((2,7))"
   ]
  },
  {
   "cell_type": "code",
   "execution_count": 28,
   "id": "df7c6f2c-e8a1-4424-8fe4-90364675d8c6",
   "metadata": {},
   "outputs": [
    {
     "data": {
      "text/plain": [
       "array([[0., 0., 0., 0., 0., 0., 0.],\n",
       "       [0., 0., 0., 0., 0., 0., 0.]])"
      ]
     },
     "execution_count": 28,
     "metadata": {},
     "output_type": "execute_result"
    }
   ],
   "source": [
    "enp"
   ]
  },
  {
   "cell_type": "code",
   "execution_count": 29,
   "id": "d5a38490-e355-4097-a526-76ba3767c829",
   "metadata": {},
   "outputs": [],
   "source": [
    "penp = np.empty((6,4))"
   ]
  },
  {
   "cell_type": "code",
   "execution_count": 30,
   "id": "56064ceb-3cce-4152-9b18-6b3a4be6442c",
   "metadata": {},
   "outputs": [
    {
     "data": {
      "text/plain": [
       "array([[4.67296746e-307, 1.69121096e-306, 4.00535364e-307,\n",
       "        1.89146896e-307],\n",
       "       [7.56571288e-307, 3.11525958e-307, 1.24610723e-306,\n",
       "        1.37962320e-306],\n",
       "       [1.29060871e-306, 2.22518251e-306, 1.33511969e-306,\n",
       "        1.78022342e-306],\n",
       "       [1.05700345e-307, 3.11525958e-307, 1.69118108e-306,\n",
       "        8.06632139e-308],\n",
       "       [1.20160711e-306, 1.69119330e-306, 1.02361614e-306,\n",
       "        1.78020848e-306],\n",
       "       [1.78021527e-306, 1.69119330e-306, 9.79101082e-307,\n",
       "        1.78020576e-306]])"
      ]
     },
     "execution_count": 30,
     "metadata": {},
     "output_type": "execute_result"
    }
   ],
   "source": [
    "penp"
   ]
  },
  {
   "cell_type": "code",
   "execution_count": 31,
   "id": "68fe49e9-c9a4-4071-aa54-4a85837fcbb2",
   "metadata": {},
   "outputs": [],
   "source": [
    "ide = np.identity(45)"
   ]
  },
  {
   "cell_type": "code",
   "execution_count": 32,
   "id": "506abccf-d02d-4da9-a9d6-2fa1468d861d",
   "metadata": {},
   "outputs": [
    {
     "data": {
      "text/plain": [
       "array([[1., 0., 0., ..., 0., 0., 0.],\n",
       "       [0., 1., 0., ..., 0., 0., 0.],\n",
       "       [0., 0., 1., ..., 0., 0., 0.],\n",
       "       ...,\n",
       "       [0., 0., 0., ..., 1., 0., 0.],\n",
       "       [0., 0., 0., ..., 0., 1., 0.],\n",
       "       [0., 0., 0., ..., 0., 0., 1.]])"
      ]
     },
     "execution_count": 32,
     "metadata": {},
     "output_type": "execute_result"
    }
   ],
   "source": [
    "ide"
   ]
  },
  {
   "cell_type": "code",
   "execution_count": 33,
   "id": "f4675a5c-9d98-4358-baf7-eb83f0e45565",
   "metadata": {},
   "outputs": [
    {
     "data": {
      "text/plain": [
       "(45, 45)"
      ]
     },
     "execution_count": 33,
     "metadata": {},
     "output_type": "execute_result"
    }
   ],
   "source": [
    "ide.shape"
   ]
  },
  {
   "cell_type": "code",
   "execution_count": 34,
   "id": "b8834783-0f85-40aa-b64d-1faffa8a68a7",
   "metadata": {},
   "outputs": [],
   "source": [
    "nodeide = np.identity(4)"
   ]
  },
  {
   "cell_type": "code",
   "execution_count": 35,
   "id": "85b11cf6-dd28-4ed8-874a-a5983ec6a7d8",
   "metadata": {},
   "outputs": [
    {
     "data": {
      "text/plain": [
       "array([[1., 0., 0., 0.],\n",
       "       [0., 1., 0., 0.],\n",
       "       [0., 0., 1., 0.],\n",
       "       [0., 0., 0., 1.]])"
      ]
     },
     "execution_count": 35,
     "metadata": {},
     "output_type": "execute_result"
    }
   ],
   "source": [
    "nodeide"
   ]
  },
  {
   "cell_type": "code",
   "execution_count": 36,
   "id": "1856ad27-81d5-44fb-842c-333620a2aa91",
   "metadata": {},
   "outputs": [
    {
     "data": {
      "text/plain": [
       "(4, 4)"
      ]
     },
     "execution_count": 36,
     "metadata": {},
     "output_type": "execute_result"
    }
   ],
   "source": [
    "nodeide.shape"
   ]
  },
  {
   "cell_type": "code",
   "execution_count": 37,
   "id": "684c9e75-67f3-4c61-b348-7404cb68cebf",
   "metadata": {},
   "outputs": [],
   "source": [
    "my_arr = np.arange(100)"
   ]
  },
  {
   "cell_type": "code",
   "execution_count": 38,
   "id": "1d0b32c1-edb2-4bf1-b3ad-91f11a43fc76",
   "metadata": {},
   "outputs": [
    {
     "data": {
      "text/plain": [
       "array([ 0,  1,  2,  3,  4,  5,  6,  7,  8,  9, 10, 11, 12, 13, 14, 15, 16,\n",
       "       17, 18, 19, 20, 21, 22, 23, 24, 25, 26, 27, 28, 29, 30, 31, 32, 33,\n",
       "       34, 35, 36, 37, 38, 39, 40, 41, 42, 43, 44, 45, 46, 47, 48, 49, 50,\n",
       "       51, 52, 53, 54, 55, 56, 57, 58, 59, 60, 61, 62, 63, 64, 65, 66, 67,\n",
       "       68, 69, 70, 71, 72, 73, 74, 75, 76, 77, 78, 79, 80, 81, 82, 83, 84,\n",
       "       85, 86, 87, 88, 89, 90, 91, 92, 93, 94, 95, 96, 97, 98, 99])"
      ]
     },
     "execution_count": 38,
     "metadata": {},
     "output_type": "execute_result"
    }
   ],
   "source": [
    "my_arr"
   ]
  },
  {
   "cell_type": "code",
   "execution_count": 39,
   "id": "63081faa-4ca3-4af9-a457-8e8ddb10c838",
   "metadata": {},
   "outputs": [
    {
     "data": {
      "text/plain": [
       "array([[ 0,  1,  2,  3,  4,  5,  6,  7,  8,  9, 10, 11, 12, 13, 14, 15,\n",
       "        16, 17, 18, 19],\n",
       "       [20, 21, 22, 23, 24, 25, 26, 27, 28, 29, 30, 31, 32, 33, 34, 35,\n",
       "        36, 37, 38, 39],\n",
       "       [40, 41, 42, 43, 44, 45, 46, 47, 48, 49, 50, 51, 52, 53, 54, 55,\n",
       "        56, 57, 58, 59],\n",
       "       [60, 61, 62, 63, 64, 65, 66, 67, 68, 69, 70, 71, 72, 73, 74, 75,\n",
       "        76, 77, 78, 79],\n",
       "       [80, 81, 82, 83, 84, 85, 86, 87, 88, 89, 90, 91, 92, 93, 94, 95,\n",
       "        96, 97, 98, 99]])"
      ]
     },
     "execution_count": 39,
     "metadata": {},
     "output_type": "execute_result"
    }
   ],
   "source": [
    "my_arr.reshape(5 , 20)"
   ]
  },
  {
   "cell_type": "code",
   "execution_count": 40,
   "id": "b691f6d7-6651-4b36-b3b3-0c03c10e2aa7",
   "metadata": {},
   "outputs": [
    {
     "data": {
      "text/plain": [
       "array([ 0,  1,  2,  3,  4,  5,  6,  7,  8,  9, 10, 11, 12, 13, 14, 15, 16,\n",
       "       17, 18, 19, 20, 21, 22, 23, 24, 25, 26, 27, 28, 29, 30, 31, 32, 33,\n",
       "       34, 35, 36, 37, 38, 39, 40, 41, 42, 43, 44, 45, 46, 47, 48, 49, 50,\n",
       "       51, 52, 53, 54, 55, 56, 57, 58, 59, 60, 61, 62, 63, 64, 65, 66, 67,\n",
       "       68, 69, 70, 71, 72, 73, 74, 75, 76, 77, 78, 79, 80, 81, 82, 83, 84,\n",
       "       85, 86, 87, 88, 89, 90, 91, 92, 93, 94, 95, 96, 97, 98, 99])"
      ]
     },
     "execution_count": 40,
     "metadata": {},
     "output_type": "execute_result"
    }
   ],
   "source": [
    "my_arr.ravel()"
   ]
  },
  {
   "cell_type": "code",
   "execution_count": 41,
   "id": "be752b5f-daa4-46a2-abe2-50ff09d6ec29",
   "metadata": {},
   "outputs": [],
   "source": [
    "x = [[1,2,3] , [4,5,6] , [7,1,0]]"
   ]
  },
  {
   "cell_type": "code",
   "execution_count": 42,
   "id": "9b1ccdb2-f6b9-4a65-be22-51a03d44a2f6",
   "metadata": {},
   "outputs": [],
   "source": [
    "arr = np.array(x)"
   ]
  },
  {
   "cell_type": "code",
   "execution_count": 43,
   "id": "1f0b1c10-5b7f-4f37-8d28-4b0d0ba65bc4",
   "metadata": {},
   "outputs": [
    {
     "data": {
      "text/plain": [
       "array([[1, 2, 3],\n",
       "       [4, 5, 6],\n",
       "       [7, 1, 0]])"
      ]
     },
     "execution_count": 43,
     "metadata": {},
     "output_type": "execute_result"
    }
   ],
   "source": [
    "arr"
   ]
  },
  {
   "cell_type": "code",
   "execution_count": 44,
   "id": "96e1c359-abba-46e4-b648-10d241dffdd5",
   "metadata": {},
   "outputs": [
    {
     "data": {
      "text/plain": [
       "array([12,  8,  9])"
      ]
     },
     "execution_count": 44,
     "metadata": {},
     "output_type": "execute_result"
    }
   ],
   "source": [
    "arr.sum(axis = 0)"
   ]
  },
  {
   "cell_type": "code",
   "execution_count": 45,
   "id": "a7206153-1625-44e8-9197-8d9c07abbe31",
   "metadata": {},
   "outputs": [
    {
     "data": {
      "text/plain": [
       "array([ 6, 15,  8])"
      ]
     },
     "execution_count": 45,
     "metadata": {},
     "output_type": "execute_result"
    }
   ],
   "source": [
    "arr.sum(axis = 1)"
   ]
  },
  {
   "cell_type": "code",
   "execution_count": 46,
   "id": "a99adf25-25dc-41a6-bcaf-bf3bcc227c11",
   "metadata": {},
   "outputs": [
    {
     "data": {
      "text/plain": [
       "array([[1, 4, 7],\n",
       "       [2, 5, 1],\n",
       "       [3, 6, 0]])"
      ]
     },
     "execution_count": 46,
     "metadata": {},
     "output_type": "execute_result"
    }
   ],
   "source": [
    "arr.T"
   ]
  },
  {
   "cell_type": "code",
   "execution_count": 47,
   "id": "bf34ff64-9f15-4487-937a-6b11bdf0d466",
   "metadata": {},
   "outputs": [
    {
     "name": "stdout",
     "output_type": "stream",
     "text": [
      "1\n",
      "2\n",
      "3\n",
      "4\n",
      "5\n",
      "6\n",
      "7\n",
      "1\n",
      "0\n"
     ]
    }
   ],
   "source": [
    "for item in arr.flat:\n",
    "    print(item)"
   ]
  },
  {
   "cell_type": "code",
   "execution_count": 48,
   "id": "b63b9447-584f-4cd3-8ab2-6647c612331d",
   "metadata": {},
   "outputs": [
    {
     "data": {
      "text/plain": [
       "2"
      ]
     },
     "execution_count": 48,
     "metadata": {},
     "output_type": "execute_result"
    }
   ],
   "source": [
    "arr.ndim"
   ]
  },
  {
   "cell_type": "code",
   "execution_count": 49,
   "id": "c2e77383-8949-427f-b926-1f18bb8297e2",
   "metadata": {},
   "outputs": [
    {
     "data": {
      "text/plain": [
       "9"
      ]
     },
     "execution_count": 49,
     "metadata": {},
     "output_type": "execute_result"
    }
   ],
   "source": [
    "arr.size"
   ]
  },
  {
   "cell_type": "code",
   "execution_count": 50,
   "id": "f5ff01b8-5660-4ce3-a19d-3e117f8c3790",
   "metadata": {},
   "outputs": [
    {
     "data": {
      "text/plain": [
       "72"
      ]
     },
     "execution_count": 50,
     "metadata": {},
     "output_type": "execute_result"
    }
   ],
   "source": [
    "arr.nbytes"
   ]
  },
  {
   "cell_type": "code",
   "execution_count": 51,
   "id": "b7019559-7659-4526-98d4-66716dc708cd",
   "metadata": {},
   "outputs": [],
   "source": [
    "hunt = np.array([2,3,4,566,73,4])"
   ]
  },
  {
   "cell_type": "code",
   "execution_count": 52,
   "id": "05c581e0-0541-439f-b992-2c2e0477287e",
   "metadata": {},
   "outputs": [
    {
     "data": {
      "text/plain": [
       "np.int64(3)"
      ]
     },
     "execution_count": 52,
     "metadata": {},
     "output_type": "execute_result"
    }
   ],
   "source": [
    "hunt.argmax()"
   ]
  },
  {
   "cell_type": "code",
   "execution_count": 53,
   "id": "f3c47733-e695-4159-82f2-8d45045cbdf5",
   "metadata": {},
   "outputs": [
    {
     "data": {
      "text/plain": [
       "np.int64(0)"
      ]
     },
     "execution_count": 53,
     "metadata": {},
     "output_type": "execute_result"
    }
   ],
   "source": [
    "hunt.argmin()"
   ]
  },
  {
   "cell_type": "code",
   "execution_count": 54,
   "id": "84cf6a5a-4753-40d7-8b04-e6f90208796b",
   "metadata": {},
   "outputs": [
    {
     "data": {
      "text/plain": [
       "array([0, 1, 2, 5, 4, 3])"
      ]
     },
     "execution_count": 54,
     "metadata": {},
     "output_type": "execute_result"
    }
   ],
   "source": [
    "hunt.argsort()"
   ]
  },
  {
   "cell_type": "code",
   "execution_count": 55,
   "id": "d0fda4ea-ac21-4ced-b3ce-7d790ffaa08b",
   "metadata": {},
   "outputs": [
    {
     "data": {
      "text/plain": [
       "dtype('int64')"
      ]
     },
     "execution_count": 55,
     "metadata": {},
     "output_type": "execute_result"
    }
   ],
   "source": [
    "hunt.dtype"
   ]
  },
  {
   "cell_type": "code",
   "execution_count": 56,
   "id": "80024da7-c3da-4a4e-af24-1340ba54f9f2",
   "metadata": {},
   "outputs": [],
   "source": [
    "trp = np.array([[2,3,4],[6,5,7],[77,65,45]])"
   ]
  },
  {
   "cell_type": "code",
   "execution_count": 57,
   "id": "4ea40d29-b4f0-43b4-b293-360241a4b87a",
   "metadata": {},
   "outputs": [
    {
     "data": {
      "text/plain": [
       "array([2, 2, 2])"
      ]
     },
     "execution_count": 57,
     "metadata": {},
     "output_type": "execute_result"
    }
   ],
   "source": [
    "trp.argmax(axis = 0)"
   ]
  },
  {
   "cell_type": "code",
   "execution_count": 58,
   "id": "bfa4a274-1ea8-4f15-b8b7-9b1574a7eeae",
   "metadata": {},
   "outputs": [
    {
     "data": {
      "text/plain": [
       "array([[0, 1, 2],\n",
       "       [1, 0, 2],\n",
       "       [2, 1, 0]])"
      ]
     },
     "execution_count": 58,
     "metadata": {},
     "output_type": "execute_result"
    }
   ],
   "source": [
    "trp.argsort(axis = 1)"
   ]
  },
  {
   "cell_type": "code",
   "execution_count": 59,
   "id": "32ac5d61-e67a-45a6-8e9b-df6d9ab07cf4",
   "metadata": {},
   "outputs": [
    {
     "data": {
      "text/plain": [
       "array([[0, 0, 0],\n",
       "       [1, 1, 1],\n",
       "       [2, 2, 2]])"
      ]
     },
     "execution_count": 59,
     "metadata": {},
     "output_type": "execute_result"
    }
   ],
   "source": [
    "trp.argsort(axis = 0)"
   ]
  },
  {
   "cell_type": "code",
   "execution_count": 60,
   "id": "d0421f91-be15-4027-a1b2-f4dce32ed111",
   "metadata": {},
   "outputs": [
    {
     "data": {
      "text/plain": [
       "array([[ 2],\n",
       "       [ 3],\n",
       "       [ 4],\n",
       "       [ 6],\n",
       "       [ 5],\n",
       "       [ 7],\n",
       "       [77],\n",
       "       [65],\n",
       "       [45]])"
      ]
     },
     "execution_count": 60,
     "metadata": {},
     "output_type": "execute_result"
    }
   ],
   "source": [
    "trp.reshape(9 , 1)"
   ]
  },
  {
   "cell_type": "code",
   "execution_count": 61,
   "id": "879b7e7d-3420-4074-8d87-d42aa6dc741f",
   "metadata": {},
   "outputs": [],
   "source": [
    "arr1 = np.array([[23,3],[45,6],[56,76]])"
   ]
  },
  {
   "cell_type": "code",
   "execution_count": 62,
   "id": "43104544-62bc-410f-8e19-849ab14ee342",
   "metadata": {},
   "outputs": [],
   "source": [
    "arr2 = np.array([[45,3],[7,5],[23,33]])"
   ]
  },
  {
   "cell_type": "code",
   "execution_count": 63,
   "id": "0d932258-6c87-4c05-807a-dd44752941cc",
   "metadata": {},
   "outputs": [
    {
     "data": {
      "text/plain": [
       "array([[ 68,   6],\n",
       "       [ 52,  11],\n",
       "       [ 79, 109]])"
      ]
     },
     "execution_count": 63,
     "metadata": {},
     "output_type": "execute_result"
    }
   ],
   "source": [
    "arr1 + arr2"
   ]
  },
  {
   "cell_type": "code",
   "execution_count": 64,
   "id": "783953dc-1f5c-481b-93c0-bf0e93d7fed6",
   "metadata": {},
   "outputs": [],
   "source": [
    "allarr = arr1 * arr2"
   ]
  },
  {
   "cell_type": "code",
   "execution_count": 65,
   "id": "1ce791e9-e2a1-4e13-8b6e-900cf7e265fd",
   "metadata": {},
   "outputs": [
    {
     "data": {
      "text/plain": [
       "array([[4.79583152, 1.73205081],\n",
       "       [6.70820393, 2.44948974],\n",
       "       [7.48331477, 8.71779789]])"
      ]
     },
     "execution_count": 65,
     "metadata": {},
     "output_type": "execute_result"
    }
   ],
   "source": [
    "np.sqrt(arr1)"
   ]
  },
  {
   "cell_type": "code",
   "execution_count": 66,
   "id": "9d6b36b5-2978-4369-b465-0fd1c2c17262",
   "metadata": {},
   "outputs": [
    {
     "data": {
      "text/plain": [
       "array([[1035,    9],\n",
       "       [ 315,   30],\n",
       "       [1288, 2508]])"
      ]
     },
     "execution_count": 66,
     "metadata": {},
     "output_type": "execute_result"
    }
   ],
   "source": [
    "allarr"
   ]
  },
  {
   "cell_type": "code",
   "execution_count": 67,
   "id": "2ae63aab-287c-40c1-91c7-b6a0891b4331",
   "metadata": {},
   "outputs": [
    {
     "data": {
      "text/plain": [
       "np.int64(5185)"
      ]
     },
     "execution_count": 67,
     "metadata": {},
     "output_type": "execute_result"
    }
   ],
   "source": [
    "allarr.sum()"
   ]
  },
  {
   "cell_type": "code",
   "execution_count": 68,
   "id": "70ceeb71-8bca-484c-8340-77f9a2997ad8",
   "metadata": {},
   "outputs": [
    {
     "data": {
      "text/plain": [
       "np.int64(2508)"
      ]
     },
     "execution_count": 68,
     "metadata": {},
     "output_type": "execute_result"
    }
   ],
   "source": [
    "allarr.max()"
   ]
  },
  {
   "cell_type": "code",
   "execution_count": 69,
   "id": "a6722bf2-198f-4d3f-ba7f-591317113d1e",
   "metadata": {},
   "outputs": [
    {
     "data": {
      "text/plain": [
       "(array([0, 1, 1, 2, 2]), array([0, 0, 1, 0, 1]))"
      ]
     },
     "execution_count": 69,
     "metadata": {},
     "output_type": "execute_result"
    }
   ],
   "source": [
    "np.where(allarr > 9)"
   ]
  },
  {
   "cell_type": "code",
   "execution_count": 70,
   "id": "9a170c4f-6fa7-4388-bbdd-85ffbf993939",
   "metadata": {},
   "outputs": [
    {
     "data": {
      "text/plain": [
       "(array([], dtype=int64), array([], dtype=int64))"
      ]
     },
     "execution_count": 70,
     "metadata": {},
     "output_type": "execute_result"
    }
   ],
   "source": [
    "np.where(allarr < 9)"
   ]
  },
  {
   "cell_type": "code",
   "execution_count": 71,
   "id": "aae76958-7be2-4ecc-bcbf-84f3cb54f9cc",
   "metadata": {},
   "outputs": [
    {
     "data": {
      "text/plain": [
       "6"
      ]
     },
     "execution_count": 71,
     "metadata": {},
     "output_type": "execute_result"
    }
   ],
   "source": [
    "np.count_nonzero(allarr)"
   ]
  },
  {
   "cell_type": "code",
   "execution_count": 72,
   "id": "13745e17-e35e-4ac0-b062-07fa86590994",
   "metadata": {},
   "outputs": [],
   "source": [
    "import sys"
   ]
  },
  {
   "cell_type": "code",
   "execution_count": 73,
   "id": "60ad2e94-8444-4fc2-82d9-27bfdbef4b76",
   "metadata": {},
   "outputs": [],
   "source": [
    "py_arr = [4,45,4,5,554]"
   ]
  },
  {
   "cell_type": "code",
   "execution_count": 74,
   "id": "fff3a74d-a8a5-4b5a-9d84-0d60fd073ee9",
   "metadata": {},
   "outputs": [],
   "source": [
    "ch_arr = np.array(py_arr)"
   ]
  },
  {
   "cell_type": "code",
   "execution_count": 75,
   "id": "6b9c0c94-9482-4832-a6dc-834b2f9d5079",
   "metadata": {},
   "outputs": [
    {
     "data": {
      "text/plain": [
       "140"
      ]
     },
     "execution_count": 75,
     "metadata": {},
     "output_type": "execute_result"
    }
   ],
   "source": [
    "sys.getsizeof(1) * len(py_arr)"
   ]
  },
  {
   "cell_type": "code",
   "execution_count": 76,
   "id": "d7118af7-afe1-423e-995b-78a04c3be883",
   "metadata": {},
   "outputs": [
    {
     "data": {
      "text/plain": [
       "40"
      ]
     },
     "execution_count": 76,
     "metadata": {},
     "output_type": "execute_result"
    }
   ],
   "source": [
    "ch_arr.itemsize * ch_arr.size"
   ]
  },
  {
   "cell_type": "code",
   "execution_count": 77,
   "id": "5e7160b0-4774-40cb-8250-9de054204155",
   "metadata": {},
   "outputs": [
    {
     "data": {
      "text/plain": [
       "[4, 45, 4, 5, 554]"
      ]
     },
     "execution_count": 77,
     "metadata": {},
     "output_type": "execute_result"
    }
   ],
   "source": [
    "ch_arr.tolist()"
   ]
  }
 ],
 "metadata": {
  "kernelspec": {
   "display_name": "Python 3 (ipykernel)",
   "language": "python",
   "name": "python3"
  },
  "language_info": {
   "codemirror_mode": {
    "name": "ipython",
    "version": 3
   },
   "file_extension": ".py",
   "mimetype": "text/x-python",
   "name": "python",
   "nbconvert_exporter": "python",
   "pygments_lexer": "ipython3",
   "version": "3.12.6"
  }
 },
 "nbformat": 4,
 "nbformat_minor": 5
}
